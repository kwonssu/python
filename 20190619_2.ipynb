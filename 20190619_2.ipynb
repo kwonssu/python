{
 "cells": [
  {
   "cell_type": "code",
   "execution_count": 1,
   "metadata": {},
   "outputs": [],
   "source": [
    "import numpy as np\n",
    "import pandas as pd\n",
    "import matplotlib.pyplot as plt"
   ]
  },
  {
   "cell_type": "code",
   "execution_count": 5,
   "metadata": {},
   "outputs": [
    {
     "data": {
      "text/plain": [
       "<BarContainer object of 10 artists>"
      ]
     },
     "execution_count": 5,
     "metadata": {},
     "output_type": "execute_result"
    },
    {
     "data": {
      "image/png": "[encoded data removed]",
      "text/plain": [
       "<Figure size 360x72 with 1 Axes>"
      ]
     },
     "metadata": {
      "needs_background": "light"
     },
     "output_type": "display_data"
    }
   ],
   "source": [
    "# 막대그래프(X,Y)\n",
    "plt.figure(figsize=(5,1))\n",
    "plt.bar(np.arange(10),np.random.randint(1,10,size=10))"
   ]
  },
  {
   "cell_type": "code",
   "execution_count": 16,
   "metadata": {},
   "outputs": [
    {
     "data": {
      "text/plain": [
       "<matplotlib.legend.Legend at 0x1c8815ed1d0>"
      ]
     },
     "execution_count": 16,
     "metadata": {},
     "output_type": "execute_result"
    },
    {
     "data": {
      "image/png": "[encoded data removed]",
      "text/plain": [
       "<Figure size 360x72 with 1 Axes>"
      ]
     },
     "metadata": {
      "needs_background": "light"
     },
     "output_type": "display_data"
    }
   ],
   "source": [
    "plt.figure(figsize=(5,1))\n",
    "plt.barh(np.arange(10), np.random.randint(1,10,size=10),label='1') # bar horizonal\n",
    "plt.barh(np.arange(10), - np.random.randint(1,10,size=10),label='2') # bar horizonal\n",
    "plt.legend()"
   ]
  },
  {
   "cell_type": "code",
   "execution_count": 20,
   "metadata": {},
   "outputs": [
    {
     "data": {
      "text/plain": [
       "(27, 207)"
      ]
     },
     "execution_count": 20,
     "metadata": {},
     "output_type": "execute_result"
    }
   ],
   "source": [
    "df = pd.read_csv('Hwaseong.csv', encoding='cp949')\n",
    "df.shape"
   ]
  },
  {
   "cell_type": "markdown",
   "metadata": {},
   "source": [
    "- 특정 도시(화성)의 여성과 남성의 나이별 인구수 대조\n",
    "- 컬럼 위치 찾기 : 남 0세~ 남90세, 여 0세~ 여90세\n",
    "- 0세:10명, 1세:20명.... 도시에서 모두 누적 > 막대 그래프로 표현"
   ]
  },
  {
   "cell_type": "code",
   "execution_count": 74,
   "metadata": {},
   "outputs": [
    {
     "data": {
      "text/plain": [
       "('2019년05월_여_0세', '2019년05월_여_99세')"
      ]
     },
     "execution_count": 74,
     "metadata": {},
     "output_type": "execute_result"
    }
   ],
   "source": [
    "max_age = 99\n",
    "city = '경기도 화성시 병점1동'\n",
    "man_0 = '2019년05월_남_0세'\n",
    "woman_0 = '2019년05월_여_0세'\n",
    "type(list(df.columns))\n",
    "columns = list(df.columns)\n",
    "man_0_index = columns.index(man_0)\n",
    "woman_0_index = columns.index(woman_0)\n",
    "columns[man_0_index], columns[man_0_index + max_age] \n",
    "columns[woman_0_index], columns[woman_0_index + max_age]"
   ]
  },
  {
   "cell_type": "code",
   "execution_count": 75,
   "metadata": {},
   "outputs": [
    {
     "name": "stdout",
     "output_type": "stream",
     "text": [
      "16 경기도 화성시 병점1동(4159053000)\n"
     ]
    },
    {
     "data": {
      "text/plain": [
       "16"
      ]
     },
     "execution_count": 75,
     "metadata": {},
     "output_type": "execute_result"
    }
   ],
   "source": [
    "data = np.array(df)\n",
    "area = data[:,0]\n",
    "area[:3]\n",
    "city_row_index = -1\n",
    "for i in range(len(area)):\n",
    "    if city in area[i]:\n",
    "        print(i,area[i])\n",
    "        city_row_index = i    \n",
    "city_row_index"
   ]
  },
  {
   "cell_type": "code",
   "execution_count": 76,
   "metadata": {},
   "outputs": [
    {
     "data": {
      "text/plain": [
       "((99,), (99,))"
      ]
     },
     "execution_count": 76,
     "metadata": {},
     "output_type": "execute_result"
    }
   ],
   "source": [
    "city_data = data[city_row_index]\n",
    "city_man = city_data[man_0_index:man_0_index + max_age].astype(np.int)\n",
    "city_woman = city_data[woman_0_index:woman_0_index + max_age].astype(np.int)\n",
    "city_man.shape, city_woman.shape"
   ]
  },
  {
   "cell_type": "code",
   "execution_count": 77,
   "metadata": {},
   "outputs": [
    {
     "data": {
      "image/png": "[encoded data removed]",
      "text/plain": [
       "<Figure size 360x144 with 1 Axes>"
      ]
     },
     "metadata": {
      "needs_background": "light"
     },
     "output_type": "display_data"
    }
   ],
   "source": [
    "plt.figure(figsize=(5,2))\n",
    "m = plt.barh(np.arange(len(city_man)), city_man, label='man')\n",
    "m = plt.barh(np.arange(len(city_woman)), -city_woman, label='woman')\n",
    "m = plt.legend()"
   ]
  },
  {
   "cell_type": "code",
   "execution_count": 87,
   "metadata": {},
   "outputs": [],
   "source": [
    "df = pd.read_csv('korea.csv', encoding='cp949')\n",
    "df = df.replace(',','',regex=True)\n",
    "df.shape\n",
    "\n",
    "data = np.array(df)\n",
    "area = data[:,0]"
   ]
  },
  {
   "cell_type": "code",
   "execution_count": 88,
   "metadata": {},
   "outputs": [
    {
     "data": {
      "text/plain": [
       "(450, 207)"
      ]
     },
     "execution_count": 88,
     "metadata": {},
     "output_type": "execute_result"
    }
   ],
   "source": [
    "city = '서울' # 이 글자가 들어간 행은 전부 찾자, 조건부 검색, 마스크(True만 뽑기)\n",
    "is_contain = []\n",
    "for i in range(len(area)):\n",
    "    is_contain.append(city in area[i])\n",
    "\n",
    "np.mean(is_contain)\n",
    "city_data = data[is_contain]\n",
    "city_data.shape"
   ]
  },
  {
   "cell_type": "code",
   "execution_count": 99,
   "metadata": {},
   "outputs": [
    {
     "data": {
      "text/plain": [
       "((450, 99), (450, 99))"
      ]
     },
     "execution_count": 99,
     "metadata": {},
     "output_type": "execute_result"
    }
   ],
   "source": [
    "city_man = city_data[:,man_0_index:man_0_index+max_age].astype(np.int)\n",
    "city_woman = city_data[:,woman_0_index:woman_0_index+max_age].astype(np.int)\n",
    "city_man.shape, city_woman.shape"
   ]
  },
  {
   "cell_type": "code",
   "execution_count": 100,
   "metadata": {},
   "outputs": [],
   "source": [
    "city_man = np.sum(city_man, axis=0)\n",
    "city_woman = np.sum(city_woman, axis=0)"
   ]
  },
  {
   "cell_type": "code",
   "execution_count": 101,
   "metadata": {},
   "outputs": [
    {
     "data": {
      "image/png": "[encoded data removed]",
      "text/plain": [
       "<Figure size 576x216 with 1 Axes>"
      ]
     },
     "metadata": {
      "needs_background": "light"
     },
     "output_type": "display_data"
    }
   ],
   "source": [
    "plt.figure(figsize=(8,3))\n",
    "plt.title('Seoul')\n",
    "m = plt.barh(np.arange(len(city_man)), city_man, label='man')\n",
    "m = plt.barh(np.arange(len(city_woman)), -city_woman, label='woman')\n",
    "m = plt.legend()"
   ]
  },
  {
   "cell_type": "code",
   "execution_count": 102,
   "metadata": {},
   "outputs": [
    {
     "data": {
      "image/png": "[encoded data removed]",
      "text/plain": [
       "<Figure size 576x216 with 1 Axes>"
      ]
     },
     "metadata": {
      "needs_background": "light"
     },
     "output_type": "display_data"
    }
   ],
   "source": [
    "df = pd.read_csv('korea.csv', encoding='cp949')\n",
    "df = df.replace(',','',regex=True)\n",
    "df.shape\n",
    "\n",
    "data = np.array(df)\n",
    "area = data[:,0]\n",
    "\n",
    "city = '제주' # 이 글자가 들어간 행은 전부 찾자, 조건부 검색, 마스크(True만 뽑기)\n",
    "is_contain = []\n",
    "for i in range(len(area)):\n",
    "    is_contain.append(city in area[i])\n",
    "\n",
    "np.mean(is_contain)\n",
    "city_data = data[is_contain]\n",
    "city_data.shape\n",
    "\n",
    "city_man = city_data[:,man_0_index:man_0_index+max_age].astype(np.int)\n",
    "city_woman = city_data[:,woman_0_index:woman_0_index+max_age].astype(np.int)\n",
    "city_man.shape, city_woman.shape\n",
    "\n",
    "\n",
    "city_man = np.sum(city_man, axis=0)\n",
    "city_woman = np.sum(city_woman, axis=0)\n",
    "\n",
    "plt.figure(figsize=(8,3))\n",
    "plt.title('Jeju')\n",
    "m = plt.barh(np.arange(len(city_man)), city_man, label='man')\n",
    "m = plt.barh(np.arange(len(city_woman)), -city_woman, label='woman')\n",
    "m = plt.legend()"
   ]
  },
  {
   "cell_type": "code",
   "execution_count": 104,
   "metadata": {},
   "outputs": [
    {
     "data": {
      "text/plain": [
       "((99,), (99,))"
      ]
     },
     "execution_count": 104,
     "metadata": {},
     "output_type": "execute_result"
    }
   ],
   "source": [
    "city_man.shape, city_woman.shape"
   ]
  },
  {
   "cell_type": "code",
   "execution_count": 106,
   "metadata": {},
   "outputs": [
    {
     "data": {
      "text/plain": [
       "1010031"
      ]
     },
     "execution_count": 106,
     "metadata": {},
     "output_type": "execute_result"
    }
   ],
   "source": [
    "np.sum(city_data[:,man_0_index:man_0_index+max_age].astype(np.int))"
   ]
  },
  {
   "cell_type": "code",
   "execution_count": 107,
   "metadata": {},
   "outputs": [
    {
     "data": {
      "text/plain": [
       "1010031"
      ]
     },
     "execution_count": 107,
     "metadata": {},
     "output_type": "execute_result"
    }
   ],
   "source": [
    "np.sum(city_man)"
   ]
  },
  {
   "cell_type": "code",
   "execution_count": 108,
   "metadata": {},
   "outputs": [
    {
     "data": {
      "text/plain": [
       "996948"
      ]
     },
     "execution_count": 108,
     "metadata": {},
     "output_type": "execute_result"
    }
   ],
   "source": [
    "np.sum(city_woman)"
   ]
  },
  {
   "cell_type": "code",
   "execution_count": 125,
   "metadata": {},
   "outputs": [
    {
     "data": {
      "image/png": "[encoded data removed]",
      "text/plain": [
       "<Figure size 432x288 with 1 Axes>"
      ]
     },
     "metadata": {},
     "output_type": "display_data"
    }
   ],
   "source": [
    "# p130, p134 파이 돌출 효과\n",
    "plt.rc('font',family='Malgun Gothic')\n",
    "color = ['darkmagenta', 'deeppink', 'pink']\n",
    "plt.title('Pie Graph')\n",
    "plt.pie([10,20,30], labels=['A','B','C'],autopct='%.0f %%'\n",
    "        , colors=color, explode=(0,0.2,0))\n",
    "plt.legend()\n",
    "plt.show()"
   ]
  },
  {
   "cell_type": "code",
   "execution_count": 131,
   "metadata": {},
   "outputs": [
    {
     "data": {
      "text/plain": [
       "<matplotlib.legend.Legend at 0x1c883f71860>"
      ]
     },
     "execution_count": 131,
     "metadata": {},
     "output_type": "execute_result"
    },
    {
     "data": {
      "image/png": "[encoded data removed]",
      "text/plain": [
       "<Figure size 360x72 with 1 Axes>"
      ]
     },
     "metadata": {
      "needs_background": "light"
     },
     "output_type": "display_data"
    }
   ],
   "source": [
    "plt.figure(figsize=(5,1))\n",
    "p = plt.plot(city_man, label='man')\n",
    "p = plt.plot(city_woman, label='woman')\n",
    "plt.legend()"
   ]
  },
  {
   "cell_type": "code",
   "execution_count": 133,
   "metadata": {},
   "outputs": [
    {
     "data": {
      "text/plain": [
       "<BarContainer object of 99 artists>"
      ]
     },
     "execution_count": 133,
     "metadata": {},
     "output_type": "execute_result"
    },
    {
     "data": {
      "image/png": "[encoded data removed]",
      "text/plain": [
       "<Figure size 360x36 with 1 Axes>"
      ]
     },
     "metadata": {
      "needs_background": "light"
     },
     "output_type": "display_data"
    }
   ],
   "source": [
    "# p144 남녀 인구의 차이\n",
    "plt.figure(figsize=(5,0.5))\n",
    "plt.bar(np.arange(len(city_man)), city_man - city_woman)"
   ]
  },
  {
   "cell_type": "code",
   "execution_count": 128,
   "metadata": {},
   "outputs": [
    {
     "data": {
      "image/png": "[encoded data removed]",
      "text/plain": [
       "<Figure size 432x288 with 1 Axes>"
      ]
     },
     "metadata": {},
     "output_type": "display_data"
    }
   ],
   "source": [
    "plt.title('Man / Woman Population')\n",
    "colors = ['skyblue','pink']\n",
    "\n",
    "n = plt.pie([np.sum(city_man),np.sum(city_woman)], labels=['M','W'], autopct='%d %%', colors=colors, explode=(0,0.1))"
   ]
  },
  {
   "cell_type": "markdown",
   "metadata": {},
   "source": [
    "- plot(x) plot(x, y) 선\n",
    "- hist(x) 히스토그램\n",
    "- boxplot(x) 박스 : 분포\n",
    "- bar(x, y) barh(x, y) 막대그래프\n",
    "- pie(x)\n",
    "- scatter(x, y) 산점도"
   ]
  },
  {
   "cell_type": "code",
   "execution_count": 138,
   "metadata": {},
   "outputs": [
    {
     "data": {
      "image/png": "[encoded data removed]",
      "text/plain": [
       "<Figure size 432x288 with 2 Axes>"
      ]
     },
     "metadata": {
      "needs_background": "light"
     },
     "output_type": "display_data"
    }
   ],
   "source": [
    "# p144 산점도(scatter) 산개할 산, 점 점, 그림 도\n",
    "# p146 s(size), c(color)\n",
    "color = ['red','green','black','gold']\n",
    "color = 'blue'\n",
    "y = np.random.randint(0,100,size=100)\n",
    "n = plt.scatter(np.arange(len(y)),y,\n",
    "               s=y,c=range(len(y)), cmap='jet')\n",
    "n = plt.colorbar()"
   ]
  },
  {
   "cell_type": "code",
   "execution_count": null,
   "metadata": {},
   "outputs": [],
   "source": []
  },
  {
   "cell_type": "code",
   "execution_count": null,
   "metadata": {},
   "outputs": [],
   "source": []
  }
 ],
 "metadata": {
  "kernelspec": {
   "display_name": "Python 3",
   "language": "python",
   "name": "python3"
  },
  "language_info": {
   "codemirror_mode": {
    "name": "ipython",
    "version": 3
   },
   "file_extension": ".py",
   "mimetype": "text/x-python",
   "name": "python",
   "nbconvert_exporter": "python",
   "pygments_lexer": "ipython3",
   "version": "3.7.3"
  }
 },
 "nbformat": 4,
 "nbformat_minor": 2
}
