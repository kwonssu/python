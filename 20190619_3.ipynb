{
 "cells": [
  {
   "cell_type": "markdown",
   "metadata": {},
   "source": [
    "서울 지하철 유/무임 승차데이터\n",
    "\n",
    "T-money 제공"
   ]
  },
  {
   "cell_type": "markdown",
   "metadata": {},
   "source": [
    "#### 문제1. 유임 승차 비율이 가장 높은 역은 어디일까"
   ]
  },
  {
   "cell_type": "code",
   "execution_count": 29,
   "metadata": {},
   "outputs": [],
   "source": [
    "import numpy as np\n",
    "import pandas as pd\n",
    "import matplotlib.pyplot as plt"
   ]
  },
  {
   "cell_type": "code",
   "execution_count": 30,
   "metadata": {},
   "outputs": [
    {
     "data": {
      "text/plain": [
       "(597, 9)"
      ]
     },
     "execution_count": 30,
     "metadata": {},
     "output_type": "execute_result"
    }
   ],
   "source": [
    "df = pd.read_csv('subwayfee.csv', encoding='cp949')\n",
    "df.shape"
   ]
  },
  {
   "cell_type": "code",
   "execution_count": 43,
   "metadata": {},
   "outputs": [],
   "source": [
    "df = df.replace(',','',regex=True)\n",
    "df = df.dropna() # 누락값이 있는 행은 버린다"
   ]
  },
  {
   "cell_type": "code",
   "execution_count": 44,
   "metadata": {},
   "outputs": [
    {
     "data": {
      "text/html": [
       "<div>\n",
       "<style scoped>\n",
       "    .dataframe tbody tr th:only-of-type {\n",
       "        vertical-align: middle;\n",
       "    }\n",
       "\n",
       "    .dataframe tbody tr th {\n",
       "        vertical-align: top;\n",
       "    }\n",
       "\n",
       "    .dataframe thead th {\n",
       "        text-align: right;\n",
       "    }\n",
       "</style>\n",
       "<table border=\"1\" class=\"dataframe\">\n",
       "  <thead>\n",
       "    <tr style=\"text-align: right;\">\n",
       "      <th></th>\n",
       "      <th>사용월</th>\n",
       "      <th>호선명</th>\n",
       "      <th>역ID</th>\n",
       "      <th>지하철역</th>\n",
       "      <th>유임승차</th>\n",
       "      <th>유임하차</th>\n",
       "      <th>무임승차</th>\n",
       "      <th>무임하차</th>\n",
       "      <th>작업일시</th>\n",
       "    </tr>\n",
       "  </thead>\n",
       "  <tbody>\n",
       "    <tr>\n",
       "      <th>0</th>\n",
       "      <td>2019-05</td>\n",
       "      <td>1호선</td>\n",
       "      <td>150</td>\n",
       "      <td>서울역</td>\n",
       "      <td>1568570</td>\n",
       "      <td>1489737</td>\n",
       "      <td>247801</td>\n",
       "      <td>242107</td>\n",
       "      <td>2019-06-03 10:56:20</td>\n",
       "    </tr>\n",
       "  </tbody>\n",
       "</table>\n",
       "</div>"
      ],
      "text/plain": [
       "       사용월  호선명  역ID 지하철역     유임승차     유임하차    무임승차    무임하차  \\\n",
       "0  2019-05  1호선  150  서울역  1568570  1489737  247801  242107   \n",
       "\n",
       "                  작업일시  \n",
       "0  2019-06-03 10:56:20  "
      ]
     },
     "execution_count": 44,
     "metadata": {},
     "output_type": "execute_result"
    }
   ],
   "source": [
    "df.head(1)"
   ]
  },
  {
   "cell_type": "code",
   "execution_count": 45,
   "metadata": {},
   "outputs": [
    {
     "data": {
      "text/plain": [
       "((597, 9), array(['2019-05', '1호선', 150, '서울역', '1568570', '1489737', '247801',\n",
       "        '242107', '2019-06-03 10:56:20'], dtype=object))"
      ]
     },
     "execution_count": 45,
     "metadata": {},
     "output_type": "execute_result"
    }
   ],
   "source": [
    "arr = np.array(df) # 배열로 변환\n",
    "arr.shape, arr[0]"
   ]
  },
  {
   "cell_type": "markdown",
   "metadata": {},
   "source": [
    "유임승차 인원이 가장 많은 곳은?"
   ]
  },
  {
   "cell_type": "code",
   "execution_count": 46,
   "metadata": {},
   "outputs": [
    {
     "data": {
      "text/plain": [
       "(array(['2호선', '강남'], dtype=object), 31, 31)"
      ]
     },
     "execution_count": 46,
     "metadata": {},
     "output_type": "execute_result"
    }
   ],
   "source": [
    "유임승차 = (arr[:, 4 ]).astype(np.int)\n",
    "arr[np.argmax(유임승차),1:4:2], np.argmax(유임승차), np.argmax(유임승차)"
   ]
  },
  {
   "cell_type": "code",
   "execution_count": 48,
   "metadata": {},
   "outputs": [
    {
     "data": {
      "text/plain": [
       "(array(['분당선', '복정'], dtype=object), 24.0, 237)"
      ]
     },
     "execution_count": 48,
     "metadata": {},
     "output_type": "execute_result"
    }
   ],
   "source": [
    "무임승차 = (arr[:,6]).astype(np.int)\n",
    "유임승차비율 = 유임승차/(무임승차+1)\n",
    "arr[np.argmax(유임승차비율), 1:4:2], np.max(유임승차비율), np.argmax(유임승차비율)"
   ]
  },
  {
   "cell_type": "markdown",
   "metadata": {},
   "source": [
    "유무임 승하차 인원이 가장 많은 역은 어디일까"
   ]
  },
  {
   "cell_type": "code",
   "execution_count": 57,
   "metadata": {},
   "outputs": [
    {
     "data": {
      "text/plain": [
       "(array(['2호선', '강남'], dtype=object), 6234453, 31)"
      ]
     },
     "execution_count": 57,
     "metadata": {},
     "output_type": "execute_result"
    }
   ],
   "source": [
    "전체승하차인원 = arr[:, 4:8].astype(np.int)\n",
    "역이용인원 = np.sum(전체승하차인원, axis=1)\n",
    "arr[np.argmax(역이용인원), 1:4:2], np.max(역이용인원), np.argmax(역이용인원)"
   ]
  },
  {
   "cell_type": "markdown",
   "metadata": {},
   "source": [
    "모든 역의 유무임 승하차 비율은 어떻게 될까 > 파이 그래프 (유임승차 45%, 무음하차 x%)\n",
    "\n",
    "[유임승차인원: x, 유임하차인원:x, 무임승차:x, 무임하차 : x]"
   ]
  },
  {
   "cell_type": "code",
   "execution_count": 62,
   "metadata": {},
   "outputs": [
    {
     "data": {
      "text/plain": [
       "Index(['사용월', '호선명', '역ID', '지하철역', '유임승차', '유임하차', '무임승차', '무임하차', '작업일시'], dtype='object')"
      ]
     },
     "execution_count": 62,
     "metadata": {},
     "output_type": "execute_result"
    }
   ],
   "source": [
    "df.columns"
   ]
  },
  {
   "cell_type": "code",
   "execution_count": 73,
   "metadata": {},
   "outputs": [
    {
     "data": {
      "image/png": "[encoded data removed]",
      "text/plain": [
       "<Figure size 144x144 with 1 Axes>"
      ]
     },
     "metadata": {},
     "output_type": "display_data"
    }
   ],
   "source": [
    "a = np.sum(arr[:, 4:8].astype(np.int),axis=0)\n",
    "plt.figure(figsize=(2,2))\n",
    "plt.rc('font', family='Malgun Gothic')\n",
    "n = plt.pie(a, labels=df.columns[4:8], autopct='%.1f %%', explode=(0,0,0.1,0.1))\n",
    "plt.title('전체 지하철의 유무임 승차 비율')\n",
    "plt.savefig('all_subway_ratio.png')"
   ]
  },
  {
   "cell_type": "markdown",
   "metadata": {},
   "source": [
    "모든 역마다 유무임 승차비율을 따로 파이 차트로 나타내기(50만명 이상 승차하는 곳만)"
   ]
  },
  {
   "cell_type": "code",
   "execution_count": 81,
   "metadata": {},
   "outputs": [
    {
     "name": "stdout",
     "output_type": "stream",
     "text": [
      "['2019-05' '1호선' 150 '서울역' '1568570' '1489737' '247801' '242107'\n",
      " '2019-06-03 10:56:20']\n",
      "['2019-05' '2호선' 216 '잠실(송파구청)' '2539574' '2462479' '233044' '219947'\n",
      " '2019-06-03 10:56:20']\n",
      "['2019-05' '2호선' 219 '삼성(무역센터)' '1781824' '1842623' '134802' '127716'\n",
      " '2019-06-03 10:56:20']\n",
      "['2019-05' '2호선' 222 '강남' '2894341' '2974378' '192979' '172755'\n",
      " '2019-06-03 10:56:20']\n",
      "['2019-05' '2호선' 228 '서울대입구(관악구청)' '1509438' '1455697' '222610' '213945'\n",
      " '2019-06-03 10:56:20']\n",
      "['2019-05' '2호선' 230 '신림' '1996054' '1926203' '266618' '270264'\n",
      " '2019-06-03 10:56:20']\n",
      "['2019-05' '2호선' 232 '구로디지털단지' '1810723' '1808076' '194678' '197938'\n",
      " '2019-06-03 10:56:20']\n",
      "['2019-05' '2호선' 234 '신도림' '1646558' '1650521' '234895' '223466'\n",
      " '2019-06-03 10:56:20']\n",
      "['2019-05' '2호선' 239 '홍대입구' '2477631' '2672677' '122634' '119350'\n",
      " '2019-06-03 10:56:20']\n",
      "['2019-05' '3호선' 329 '고속터미널' '1776023' '1683057' '210770' '201605'\n",
      " '2019-06-03 10:56:20']\n"
     ]
    }
   ],
   "source": [
    "for i in range(len(arr)):\n",
    "    row = arr[i]\n",
    "    승하차인원 = row[4:8].astype(np.int)\n",
    "    유임승차 = 승하차인원[0]\n",
    "    if 유임승차 > 1500000:\n",
    "        print(row)\n",
    "        n = plt.pie(승하차인원, labels=df.columns[4:8], autopct='%.1f %%', explode=(0,0,0.1,0.1))\n",
    "        역이름 = row[3]\n",
    "        파일명 = 'subway'+ 역이름 + '.png'\n",
    "        plt.title(역이름 +'역의 유무임 승차 비율')\n",
    "        plt.savefig(파일명)\n",
    "        plt.close()"
   ]
  },
  {
   "cell_type": "code",
   "execution_count": null,
   "metadata": {},
   "outputs": [],
   "source": []
  }
 ],
 "metadata": {
  "kernelspec": {
   "display_name": "Python 3",
   "language": "python",
   "name": "python3"
  },
  "language_info": {
   "codemirror_mode": {
    "name": "ipython",
    "version": 3
   },
   "file_extension": ".py",
   "mimetype": "text/x-python",
   "name": "python",
   "nbconvert_exporter": "python",
   "pygments_lexer": "ipython3",
   "version": "3.7.3"
  }
 },
 "nbformat": 4,
 "nbformat_minor": 2
}
